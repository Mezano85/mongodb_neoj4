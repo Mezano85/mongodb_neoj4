{
 "cells": [
  {
   "cell_type": "code",
   "execution_count": 5,
   "id": "2da65bbc-bd89-4709-b3ef-057da8f8f078",
   "metadata": {},
   "outputs": [],
   "source": [
    "import pymongo"
   ]
  },
  {
   "cell_type": "code",
   "execution_count": 6,
   "id": "1598e387-e82a-4c56-8d10-b9e724fb04b2",
   "metadata": {},
   "outputs": [],
   "source": [
    "client = pymongo.MongoClient(\"mongodb\", 27017, username='root', password='mongo')"
   ]
  },
  {
   "cell_type": "code",
   "execution_count": 7,
   "id": "2cd99e5e-2f9f-4a76-a131-6206dad41ae3",
   "metadata": {},
   "outputs": [],
   "source": [
    "db = client.admin"
   ]
  },
  {
   "cell_type": "code",
   "execution_count": 8,
   "id": "0f39f681-882b-425e-9897-aa11ee02f2c7",
   "metadata": {},
   "outputs": [
    {
     "data": {
      "text/plain": [
       "Database(MongoClient(host=['mongodb:27017'], document_class=dict, tz_aware=False, connect=True), 'admin')"
      ]
     },
     "execution_count": 8,
     "metadata": {},
     "output_type": "execute_result"
    }
   ],
   "source": [
    "db"
   ]
  },
  {
   "cell_type": "code",
   "execution_count": null,
   "id": "bbe6bb3a-ff19-4370-b69f-f7d5ae9b4d3e",
   "metadata": {},
   "outputs": [],
   "source": [
    "db.list_collection_names()"
   ]
  }
 ],
 "metadata": {
  "kernelspec": {
   "display_name": "Python 3 (ipykernel)",
   "language": "python",
   "name": "python3"
  },
  "language_info": {
   "codemirror_mode": {
    "name": "ipython",
    "version": 3
   },
   "file_extension": ".py",
   "mimetype": "text/x-python",
   "name": "python",
   "nbconvert_exporter": "python",
   "pygments_lexer": "ipython3",
   "version": "3.11.6"
  }
 },
 "nbformat": 4,
 "nbformat_minor": 5
}
