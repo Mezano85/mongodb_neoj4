{
 "cells": [
  {
   "cell_type": "code",
   "execution_count": 1,
   "id": "ec2a3903-9ffc-4f5a-9f1e-2e2ce7cb88f8",
   "metadata": {},
   "outputs": [],
   "source": [
    "from neo4j import GraphDatabase"
   ]
  },
  {
   "cell_type": "code",
   "execution_count": 2,
   "id": "63d9a9b0-91c2-4353-bee9-0efc4dab8ec3",
   "metadata": {},
   "outputs": [],
   "source": [
    "URI = \"bolt://neo4j:7687\""
   ]
  },
  {
   "cell_type": "code",
   "execution_count": 7,
   "id": "e36b8ee9-908a-461c-a45c-949b9f54d2a8",
   "metadata": {},
   "outputs": [],
   "source": [
    "class HelloWorldExample:\n",
    "\n",
    "    def __init__(self, uri):\n",
    "        self.driver = GraphDatabase.driver(uri)\n",
    "\n",
    "    def close(self):\n",
    "        self.driver.close()\n",
    "\n",
    "    def print_greeting(self, message):\n",
    "        with self.driver.session() as session:\n",
    "            greeting = session.execute_write(self._create_and_return_greeting, message)\n",
    "            print(greeting)\n",
    "\n",
    "    @staticmethod\n",
    "    def _create_and_return_greeting(tx, message):\n",
    "        result = tx.run(\"CREATE (a:Greeting) \"\n",
    "                        \"SET a.message = $message \"\n",
    "                        \"RETURN a.message + ', from node ' + id(a)\", message=message)\n",
    "        return result.single()[0]\n"
   ]
  },
  {
   "cell_type": "code",
   "execution_count": 8,
   "id": "5bef3526-7111-496d-8e69-b031903c3f06",
   "metadata": {},
   "outputs": [
    {
     "name": "stdout",
     "output_type": "stream",
     "text": [
      "hello, world, from node 0\n"
     ]
    }
   ],
   "source": [
    "greeter = HelloWorldExample(URI)\n",
    "greeter.print_greeting(\"hello, world\")\n",
    "greeter.close()"
   ]
  }
 ],
 "metadata": {
  "kernelspec": {
   "display_name": "Python 3 (ipykernel)",
   "language": "python",
   "name": "python3"
  },
  "language_info": {
   "codemirror_mode": {
    "name": "ipython",
    "version": 3
   },
   "file_extension": ".py",
   "mimetype": "text/x-python",
   "name": "python",
   "nbconvert_exporter": "python",
   "pygments_lexer": "ipython3",
   "version": "3.11.6"
  }
 },
 "nbformat": 4,
 "nbformat_minor": 5
}
